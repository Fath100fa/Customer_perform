{
 "cells": [
  {
   "cell_type": "code",
   "execution_count": 63,
   "id": "9b81e378",
   "metadata": {},
   "outputs": [],
   "source": [
    "import pandas as pd\n",
    "import matplotlib.pyplot as plt\n",
    "from sklearn.model_selection import train_test_split\n",
    "from sklearn.preprocessing import LabelEncoder\n",
    "from sklearn.tree import DecisionTreeClassifier\n",
    "from sklearn.metrics import accuracy_score, confusion_matrix, classification_report\n",
    "import seaborn as sns"
   ]
  },
  {
   "cell_type": "code",
   "execution_count": 64,
   "id": "09646b55",
   "metadata": {},
   "outputs": [
    {
     "name": "stdout",
     "output_type": "stream",
     "text": [
      "   Store No.  Sales $m  Wages $m  No. Staff Location  Loc'n (Num) State  \\\n",
      "0          1      12.5       2.3         60     Mall            2   NSW   \n",
      "1          2      14.5       2.7         69     Mall            2   Vic   \n",
      "2          3      19.0       3.1         79  Country            3   Vic   \n",
      "3          4      18.2       2.6         66     Mall            2   Qld   \n",
      "4          5       7.6       2.0         51    Strip            1   Qld   \n",
      "\n",
      "   State (Num)  Age (Yrs)  GrossProfit  ...  Mng-Sex (Num)  Mng-Age  Mng-Exp  \\\n",
      "0            1         10        0.712  ...              0       33       12   \n",
      "1            2          8        0.091  ...              0       33       16   \n",
      "2            2          7        1.075  ...              0       30        9   \n",
      "3            3          7        1.372  ...              0       29        9   \n",
      "4            3         15        2.148  ...              0       36        4   \n",
      "\n",
      "  Mng-Train  Union% Car Spaces  HomeDel  HomeDel (Num)  Basket:2013  \\\n",
      "0         2      38         46   Del:No              0          171   \n",
      "1         1      38         73   Del:No              0          168   \n",
      "2         2      39         64   Del:No              0          180   \n",
      "3         2      38         66  Del:Yes              1          173   \n",
      "4         3      40         29   Del:No              0          166   \n",
      "\n",
      "   Basket:2014  \n",
      "0          178  \n",
      "1          178  \n",
      "2          188  \n",
      "3          180  \n",
      "4          171  \n",
      "\n",
      "[5 rows x 26 columns]\n"
     ]
    }
   ],
   "source": [
    "data = pd.read_excel('StoresData.xlsx',header=0)\n",
    "print(data.head())\n"
   ]
  },
  {
   "cell_type": "code",
   "execution_count": null,
   "id": "cd62ed45",
   "metadata": {},
   "outputs": [
    {
     "name": "stdout",
     "output_type": "stream",
     "text": [
      "الأعمدة النصية اللي موجودة:\n",
      "Index(['Location', 'State', 'Sundays', 'Mng-Sex', 'HomeDel'], dtype='object')\n"
     ]
    }
   ],
   "source": [
    "from sklearn.preprocessing import LabelEncoder\n",
    "\n",
    "# لكشف النصوص\n",
    "text_columns = data.select_dtypes(include=['object']).columns\n",
    "\n",
    "print(\"النص:\")\n",
    "print(text_columns)\n",
    "\n",
    "# نستخدم LabelEncoder لكل الأعمدة النصية\n",
    "label_enc = LabelEncoder()\n",
    "\n",
    "for col in text_columns:\n",
    "    data[col] = label_enc.fit_transform(data[col])"
   ]
  },
  {
   "cell_type": "code",
   "execution_count": null,
   "id": "87356394",
   "metadata": {},
   "outputs": [
    {
     "name": "stdout",
     "output_type": "stream",
     "text": [
      "Store No.        0\n",
      "Sales $m         0\n",
      "Wages $m         0\n",
      "No. Staff        0\n",
      "Location         0\n",
      "Loc'n (Num)      0\n",
      "State            0\n",
      "State (Num)      0\n",
      "Age (Yrs)        0\n",
      "GrossProfit      0\n",
      "Adv.$'000        0\n",
      "Competitors      0\n",
      "HrsTrading       0\n",
      "Sundays          0\n",
      "Sundays (Num)    0\n",
      "Mng-Sex          0\n",
      "Mng-Sex (Num)    0\n",
      "Mng-Age          0\n",
      "Mng-Exp          0\n",
      "Mng-Train        0\n",
      "Union%           0\n",
      "Car Spaces       0\n",
      "HomeDel          0\n",
      "HomeDel (Num)    0\n",
      "Basket:2013      0\n",
      "Basket:2014      0\n",
      "dtype: int64\n"
     ]
    }
   ],
   "source": [
    "# قيم مفقودة\n",
    "print(data.isnull().sum())\n",
    "\n",
    "#تحويل اي string الي 0و1\n",
    "label_enc = LabelEncoder()\n",
    "data['Location'] = label_enc.fit_transform(data['Location'])  # 0=Country, 1=Mall, 2=Strip\n",
    "data['Sundays'] = label_enc.fit_transform(data['Sundays'])    # 0=No, 1=Yes\n",
    "data['HomeDel'] = label_enc.fit_transform(data['HomeDel'])    # 0=No, 1=Yes"
   ]
  },
  {
   "cell_type": "code",
   "execution_count": null,
   "id": "ba9aaffe",
   "metadata": {},
   "outputs": [],
   "source": [
    "# مدخلات\n",
    "features = data.drop(['Sundays', 'Location', 'HomeDel'], axis=1)\n",
    "\n",
    "# أهداف\n",
    "target_sundays = data['Sundays']\n",
    "target_location = data['Location']\n",
    "target_homedel = data['HomeDel']"
   ]
  },
  {
   "cell_type": "code",
   "execution_count": 68,
   "id": "de6dd3af",
   "metadata": {},
   "outputs": [],
   "source": [
    "X_train_s, X_test_s, y_train_s, y_test_s = train_test_split(features, target_sundays, test_size=0.2, random_state=42)\n",
    "X_train_l, X_test_l, y_train_l, y_test_l = train_test_split(features, target_location, test_size=0.2, random_state=42)\n",
    "X_train_h, X_test_h, y_train_h, y_test_h = train_test_split(features, target_homedel, test_size=0.2, random_state=42)"
   ]
  },
  {
   "cell_type": "code",
   "execution_count": 70,
   "id": "881d918d",
   "metadata": {},
   "outputs": [],
   "source": [
    "# Sundays\n",
    "model_s = DecisionTreeClassifier(random_state=42)\n",
    "model_s.fit(X_train_s, y_train_s)\n",
    "y_pred_s = model_s.predict(X_test_s)\n",
    "\n",
    "# Location\n",
    "model_l = DecisionTreeClassifier(random_state=42)\n",
    "model_l.fit(X_train_l, y_train_l)\n",
    "y_pred_l = model_l.predict(X_test_l)\n",
    "\n",
    "# Home Delivery\n",
    "model_h = DecisionTreeClassifier(random_state=42)\n",
    "model_h.fit(X_train_h, y_train_h)\n",
    "y_pred_h = model_h.predict(X_test_h)"
   ]
  },
  {
   "cell_type": "code",
   "execution_count": 71,
   "id": "248e0ad0",
   "metadata": {},
   "outputs": [
    {
     "name": "stdout",
     "output_type": "stream",
     "text": [
      "Accuracy for Sundays: 1.0\n",
      "[[ 7  0]\n",
      " [ 0 23]]\n",
      "              precision    recall  f1-score   support\n",
      "\n",
      "           0       1.00      1.00      1.00         7\n",
      "           1       1.00      1.00      1.00        23\n",
      "\n",
      "    accuracy                           1.00        30\n",
      "   macro avg       1.00      1.00      1.00        30\n",
      "weighted avg       1.00      1.00      1.00        30\n",
      "\n",
      "Accuracy for Location: 1.0\n",
      "[[ 7  0  0]\n",
      " [ 0 12  0]\n",
      " [ 0  0 11]]\n",
      "              precision    recall  f1-score   support\n",
      "\n",
      "           0       1.00      1.00      1.00         7\n",
      "           1       1.00      1.00      1.00        12\n",
      "           2       1.00      1.00      1.00        11\n",
      "\n",
      "    accuracy                           1.00        30\n",
      "   macro avg       1.00      1.00      1.00        30\n",
      "weighted avg       1.00      1.00      1.00        30\n",
      "\n",
      "Accuracy for Home Delivery: 1.0\n",
      "[[22  0]\n",
      " [ 0  8]]\n",
      "              precision    recall  f1-score   support\n",
      "\n",
      "           0       1.00      1.00      1.00        22\n",
      "           1       1.00      1.00      1.00         8\n",
      "\n",
      "    accuracy                           1.00        30\n",
      "   macro avg       1.00      1.00      1.00        30\n",
      "weighted avg       1.00      1.00      1.00        30\n",
      "\n"
     ]
    }
   ],
   "source": [
    "# تقييم Sundays\n",
    "print(\"Accuracy for Sundays:\", accuracy_score(y_test_s, y_pred_s))\n",
    "print(confusion_matrix(y_test_s, y_pred_s))\n",
    "print(classification_report(y_test_s, y_pred_s))\n",
    "\n",
    "# تقييم Location\n",
    "print(\"Accuracy for Location:\", accuracy_score(y_test_l, y_pred_l))\n",
    "print(confusion_matrix(y_test_l, y_pred_l))\n",
    "print(classification_report(y_test_l, y_pred_l))\n",
    "\n",
    "# تقييم HomeDel\n",
    "print(\"Accuracy for Home Delivery:\", accuracy_score(y_test_h, y_pred_h))\n",
    "print(confusion_matrix(y_test_h, y_pred_h))\n",
    "print(classification_report(y_test_h, y_pred_h))"
   ]
  },
  {
   "cell_type": "code",
   "execution_count": null,
   "id": "2f56b57f",
   "metadata": {},
   "outputs": [],
   "source": []
  }
 ],
 "metadata": {
  "kernelspec": {
   "display_name": "base",
   "language": "python",
   "name": "python3"
  },
  "language_info": {
   "codemirror_mode": {
    "name": "ipython",
    "version": 3
   },
   "file_extension": ".py",
   "mimetype": "text/x-python",
   "name": "python",
   "nbconvert_exporter": "python",
   "pygments_lexer": "ipython3",
   "version": "3.12.7"
  }
 },
 "nbformat": 4,
 "nbformat_minor": 5
}
